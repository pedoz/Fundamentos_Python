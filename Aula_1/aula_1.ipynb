{
 "cells": [
  {
   "cell_type": "markdown",
   "metadata": {},
   "source": [
    "## AULA 1\n",
    "\n",
    "Nesta aula, será mostrado diferentes aplicações de condicionais e como elas funcionam, e também o porquê  \n",
    "\n",
    "#### Comparadores  \n",
    "\n",
    "Vamos começar com os símbolos utilizados para comparar integer, são eles:\n",
    "\n",
    "- **>** => maior que\n",
    "- **<** => menor que\n",
    "- **>=** => maior que ou igual\n",
    "- **<=** => menor que ou igual\n",
    "- **==** => igual que\n",
    "- **!=** => diferente que\n"
   ]
  },
  {
   "cell_type": "markdown",
   "metadata": {},
   "source": [
    "### Condicionais\n",
    "\n",
    "**`if`** é o código utilizado para \"perguntar\"  \n",
    "**`elif`** faz com que só pergunte se ainda não teve uma resposta verdadeira  \n",
    "**`else`** faz com que, caso não tenha nenhuma resposta verdadeira anteriormente, ela dá uma alternativa com que não precisa ser validada como verdadeira ou falsa  \n",
    "> Apesar de, em muitos casos, utilizar apenas o `if` seja uma alternativa viável, além de bugs que podem ocorrer, só devemos utilizar dois `if` se realmente queremos ver se uma alternativa tem duas opções, caso contrário, estaremos consumindo tempo de processamento, e também estamos correndo o risco de ter bugs no programa  \n",
    "\n",
    "Abaixo, um exemplo de código que utiliza a condição `if`, além dos comparadores para satisfazer tal condição:"
   ]
  },
  {
   "cell_type": "code",
   "execution_count": null,
   "metadata": {},
   "outputs": [],
   "source": [
    "x = int(input('Qual o x? '))\n",
    "y = int(input('Qual o y? '))\n",
    "\n",
    "if x < y:\n",
    "    print(\"x é menor que y\")\n",
    "    \n",
    "elif x > y:\n",
    "    print(\"x é maior que y\")\n",
    "    \n",
    "else:\n",
    "    print(\"x é igual a y\")"
   ]
  },
  {
   "cell_type": "markdown",
   "metadata": {},
   "source": [
    "Também podemos utilizar **`or`** para checar se multiplás condições são verdadeiras, or invés de criar um `if` para cada uma"
   ]
  },
  {
   "cell_type": "code",
   "execution_count": null,
   "metadata": {},
   "outputs": [],
   "source": [
    "x = int(input('Qual o x? '))\n",
    "y = int(input('Qual o y? '))\n",
    "\n",
    "if x < y or x > y:\n",
    "    print(\"x não é igual a y\")\n",
    "else:\n",
    "    print(\"x é igual a y\")"
   ]
  },
  {
   "cell_type": "markdown",
   "metadata": {},
   "source": [
    "Outra maneira de escrever o mesmo código acima, porém de maneira mais simplificada:"
   ]
  },
  {
   "cell_type": "code",
   "execution_count": null,
   "metadata": {},
   "outputs": [],
   "source": [
    "x = int(input('Qual o x? '))\n",
    "y = int(input('Qual o y? '))\n",
    "\n",
    "if x == y:\n",
    "    print(\"x é igual a y\")\n",
    "else:\n",
    "    print(\"x não é igual a y\")"
   ]
  },
  {
   "cell_type": "markdown",
   "metadata": {},
   "source": [
    "E mais uma maneira de escrever o código:"
   ]
  },
  {
   "cell_type": "code",
   "execution_count": null,
   "metadata": {},
   "outputs": [],
   "source": [
    "x = int(input('Qual o x? '))\n",
    "y = int(input('Qual o y? '))\n",
    "\n",
    "if x != y:\n",
    "    print(\"x não é igual a y\")\n",
    "else:\n",
    "    print(\"x é igual a y\")"
   ]
  },
  {
   "cell_type": "markdown",
   "metadata": {},
   "source": [
    "Também podemos verificar se duas ou mais condições se satisfazem num `if` loop, e utilizamos **`and`** para isso:"
   ]
  },
  {
   "cell_type": "code",
   "execution_count": null,
   "metadata": {},
   "outputs": [],
   "source": [
    "score = int(input(\"Score: \"))\n",
    "\n",
    "if score >=90 and score <=100:\n",
    "    print(\"A\")\n",
    "elif score >=80 and score < 90:\n",
    "    print(\"B\")\n",
    "elif score >=70 and score < 80:\n",
    "    print(\"C\")\n",
    "elif score >=60 and score < 70:\n",
    "    print(\"D\")\n",
    "else:\n",
    "    print(\"F\")"
   ]
  },
  {
   "cell_type": "code",
   "execution_count": null,
   "metadata": {},
   "outputs": [],
   "source": [
    "score = int(input(\"Score: \"))\n",
    "\n",
    "if 90 <= score <=100:\n",
    "    print(\"A\")\n",
    "elif 80 <= score < 90:\n",
    "    print(\"B\")\n",
    "elif 70 <= score < 80:\n",
    "    print(\"C\")\n",
    "elif 60 <= score < 70:\n",
    "    print(\"D\")\n",
    "else:\n",
    "    print(\"F\")"
   ]
  },
  {
   "cell_type": "markdown",
   "metadata": {},
   "source": [
    "Caso tenha notado, apesar de ter sido utilizado o `and` para verificar a condição, ele não era necessário para o programa funcionar, neste exemplo em especifíco, poderiamos ter simplesmente escrito o código assim:"
   ]
  },
  {
   "cell_type": "code",
   "execution_count": null,
   "metadata": {},
   "outputs": [],
   "source": [
    "score = int(input(\"Score: \"))\n",
    "\n",
    "if score >= 90:\n",
    "    print(\"A\")\n",
    "elif score >= 80:\n",
    "    print(\"B\")\n",
    "elif score >= 70:\n",
    "    print(\"C\")\n",
    "elif score >= 60:\n",
    "    print(\"D\")\n",
    "else:\n",
    "    print(\"F\")"
   ]
  },
  {
   "cell_type": "markdown",
   "metadata": {},
   "source": [
    ">Para a explicação do próximo comparador, uma pequena explicação de como funciona os bits de um computador\n",
    ">> o computador armazena apenas um número ímpar, sendo ele o primeiro binário. mais ou menos assim: \n",
    ">>> ...32 | 16 | 8 | 4 | 2 | 1 \n",
    "\n",
    ">Logo, sempre que queremos verificar se um número é ímpar, checamos o primeiro bit, que são lidos da direita para a esquerda, alguns exemplos de como certos números seriam lidos com 6 bits\n",
    "\n",
    "> 32\n",
    ">> 1 0 0 0 0 0\n",
    "\n",
    "> 33\n",
    ">> 1 0 0 0 0 1\n",
    "\n",
    "> 14\n",
    ">> 0 0 1 1 1 0\n",
    "\n",
    "> 7\n",
    ">> 0 0 0 1 1 1\n",
    "\n",
    "> 19\n",
    ">> 0 1 0 0 1 1\n",
    "\n",
    ">Isso será importante para entender como funciona o próximo comparador"
   ]
  },
  {
   "cell_type": "markdown",
   "metadata": {},
   "source": [
    "parity = **`%`** = operador modulo, que calcula o que sobra do cálculo\n",
    ">(se for ímpar), vale 1  \n",
    ">(se for par), vale 0\n",
    "         \n",
    "programa que serve para ver se é par ou ímpar:"
   ]
  },
  {
   "cell_type": "code",
   "execution_count": null,
   "metadata": {},
   "outputs": [],
   "source": [
    "x = int(input(\"Qual o x: \"))\n",
    "\n",
    "if x % 2 == 0:\n",
    "    print(\"Par\")\n",
    "else:\n",
    "    print(\"Ímpar\")"
   ]
  },
  {
   "cell_type": "markdown",
   "metadata": {},
   "source": [
    "Função de verificar se é par ou impar, não tendo que implementar no código inteiro  \n",
    "A função abaixo está retornando um \"Boolean Value ( True ou False)\", significa que a única informação que ele está transmitindo é de verdadeiro ou falso, sendo assim, ele não tem a capacidade de retornar nada além da confirmação de que o que foi pedido é verdadeiro ou falso"
   ]
  },
  {
   "cell_type": "code",
   "execution_count": null,
   "metadata": {},
   "outputs": [],
   "source": [
    "def main():\n",
    "    x = int(input(\"Qual o x: \"))\n",
    "    if is_even(x):\n",
    "        print(\"Par\")\n",
    "    else:\n",
    "        print(\"Ímpar\")\n",
    "\n",
    "\n",
    "def is_even(n):\n",
    "    if n % 2 == 0:\n",
    "        return True\n",
    "    else:\n",
    "        return False\n",
    "      \n",
    "    \n",
    "main()"
   ]
  },
  {
   "cell_type": "markdown",
   "metadata": {},
   "source": [
    "Também podemos escrever assim:"
   ]
  },
  {
   "cell_type": "code",
   "execution_count": null,
   "metadata": {},
   "outputs": [],
   "source": [
    "def main():\n",
    "    x = int(input(\"Qual o x: \"))\n",
    "    if is_even(x):\n",
    "        print(\"Par\")\n",
    "    else:\n",
    "        print(\"Ímpar\")\n",
    "\n",
    "\n",
    "def is_even(n):\n",
    "    return True if n % 2 == 0 else False\n",
    "    \n",
    "\n",
    "main()"
   ]
  },
  {
   "cell_type": "markdown",
   "metadata": {},
   "source": [
    "O código acima foi só uma demonstração, não se apegue muito nele.  \n",
    "Ou, mais simplificado ainda, assim:"
   ]
  },
  {
   "cell_type": "code",
   "execution_count": null,
   "metadata": {},
   "outputs": [],
   "source": [
    "def main():\n",
    "    x = int(input(\"Qual o x: \"))\n",
    "    if is_even(x):\n",
    "        print(\"Par\")\n",
    "    else:\n",
    "        print(\"Ímpar\")\n",
    "\n",
    "\n",
    "def is_even(n):\n",
    "    return n % 2 == 0\n",
    "    \n",
    "\n",
    "main()"
   ]
  },
  {
   "cell_type": "markdown",
   "metadata": {},
   "source": [
    "Podemos também comparar strings"
   ]
  },
  {
   "cell_type": "code",
   "execution_count": null,
   "metadata": {},
   "outputs": [],
   "source": [
    "name = input(\"Qual seu nome? \").title()\n",
    "\n",
    "if name == \"Harry\":\n",
    "    print(\"Gryffindor\")\n",
    "elif name == \"Hermione\":\n",
    "    print(\"Gryffindor\")\n",
    "elif name == \"Ron\":\n",
    "    print(\"Gryffindor\")\n",
    "elif name == \"Draco\":\n",
    "    print(\"Slytherin\")\n",
    "else:\n",
    "    print(\"Who?\")"
   ]
  },
  {
   "cell_type": "markdown",
   "metadata": {},
   "source": [
    "Note que, utilizando `.title()` no código acima, estamos formatando a string, dando menos chance de ocorrer erros caso o usuário escreva, por exemplo \"HARRy\", já que comparações são literais, ou seja, case sensitive  \n",
    "Aqui, um último exemplo utilizando strings e comparadores:"
   ]
  },
  {
   "cell_type": "code",
   "execution_count": null,
   "metadata": {},
   "outputs": [],
   "source": [
    "name = input(\"Qual seu nome? \").title()\n",
    "\n",
    "if name == \"Harry\" or name == \"Hermione\" or name == \"Ron\":\n",
    "    print(\"Gryffindor\")\n",
    "elif name == \"Draco\":\n",
    "    print(\"Slytherin\")\n",
    "else:\n",
    "    print(\"Who?\")"
   ]
  },
  {
   "cell_type": "markdown",
   "metadata": {},
   "source": [
    "===============\n",
    "### Criando e chamando funções\n",
    "\n",
    "Como pode ver no exemplo de verificar se é par ou ímpar, podemos criar nossas próprias funções, utilizamos **`def`** para definir a função, para cria-lá, após isso, colocamos o nome que queremos dar a função, como no exemplo abaixo **`iseven`** e, em seguida, colocamos quais valores a função vai precisar para ser chamada sem erros, colocando **`(variavéis, aqui, separando, por, virgula)`**.  \n",
    "Não é preciso necessáriamente colocar uma váriavel para criar uma função, mas sempre que colocamos uma váriavel com parametro, utilizamos ela dentro da função.\n",
    "> Lembrando que a váriavel que vai ser utilizada como parametro da função não tem necessidade de ter o mesmo nome da váriavel utilizada quando a função for chamada, acredito que ficará mais claro o que quero dizer com isso no código abaixo\n"
   ]
  },
  {
   "cell_type": "code",
   "execution_count": null,
   "metadata": {},
   "outputs": [],
   "source": [
    "def main():\n",
    "#Aqui estamos utilizando a váriavel x,\n",
    "#e passando ela como valor para a função 'iseven'\n",
    "    x = int(input(\"Qual o x: \"))\n",
    "    if iseven(x):\n",
    "        print(\"Par\")\n",
    "    else:\n",
    "        print(\"Ímpar\")\n",
    "\n",
    "#aqui, estamos chamando a váriavel x, mas note\n",
    "#que o valor que a função pede é 'n', isso só serve\n",
    "#para que, na hora de fazer a função, saibamos a ordem\n",
    "#e que tipo de DATA esperar para utilizar a função\n",
    "#ou seja, NÃO PRECISAMOS(e de preferência, não utilizamos)\n",
    "#O MESMO NOME DE VÁRIAVEL COMO PARAMETRO PARA UMA FUNÇÃO\n",
    "def iseven(n):\n",
    "    return n % 2 == 0\n",
    "    \n",
    "\n",
    "main()"
   ]
  },
  {
   "cell_type": "markdown",
   "metadata": {},
   "source": [
    "Geralmente, definimos a função principal como **`main`** e chamamos ela no final pois, se não chamarmos ela, ela não vai ter lido o programa inteiro antes de rodar **`main`**, logo, ela não terá acesso a função **`iseven`**, poderiamos colocar a função `iseven` antes da função `main`, mas é de bom costume colocar toda a base lógica no começo do código e, conforme adicionamos novas funções, elas entram abaixo. No começo pode parecer perda de tempo, porém, conforme nosso programas ficam mais complexos e maiores, isso vai facilitar bastante a nossa vida, então, habitue-se a isso.  \n",
    ">Abaixo, colocarei dois códigos, o primeiro que utiliza os valores de uma função que está chamando como parametro, e outro que chama duas funções "
   ]
  },
  {
   "cell_type": "code",
   "execution_count": 4,
   "metadata": {},
   "outputs": [
    {
     "name": "stdout",
     "output_type": "stream",
     "text": [
      "ímpar\n"
     ]
    }
   ],
   "source": [
    "def main():\n",
    "    if is_even(get_number()):\n",
    "        print(\"Par\")\n",
    "    else:\n",
    "        print(\"ímpar\")\n",
    "\n",
    "def is_even(n):\n",
    "    return n % 2 == 0\n",
    "\n",
    "def get_number():\n",
    "    return int(input(\"Qual o x? \")    )\n",
    "\n",
    "main()"
   ]
  },
  {
   "cell_type": "code",
   "execution_count": null,
   "metadata": {},
   "outputs": [],
   "source": [
    "def main():\n",
    "    x = get_number()\n",
    "    if is_even(x):\n",
    "        print(\"Par\")\n",
    "    else:\n",
    "        print(\"ímpar\")\n",
    "\n",
    "def is_even(n):\n",
    "    return n % 2 == 0\n",
    "\n",
    "def get_number():\n",
    "    return int(input(\"Qual o x? \"))\n",
    "#caso não coloquemos o int antes de 'input'\n",
    "#ele sempre retornará uma string\n",
    "\n",
    "main()"
   ]
  },
  {
   "cell_type": "markdown",
   "metadata": {},
   "source": [
    "Quando forem feitas as atividades, me avisar pois IREI TESTA-LAS, e só farei a próxima aula quando tudo estiver feito"
   ]
  }
 ],
 "metadata": {
  "kernelspec": {
   "display_name": "Python 3.11.1 64-bit",
   "language": "python",
   "name": "python3"
  },
  "language_info": {
   "codemirror_mode": {
    "name": "ipython",
    "version": 3
   },
   "file_extension": ".py",
   "mimetype": "text/x-python",
   "name": "python",
   "nbconvert_exporter": "python",
   "pygments_lexer": "ipython3",
   "version": "3.11.1"
  },
  "orig_nbformat": 4,
  "vscode": {
   "interpreter": {
    "hash": "5238573367df39f7286bb46f9ff5f08f63a01a80960060ce41e3c79b190280fa"
   }
  }
 },
 "nbformat": 4,
 "nbformat_minor": 2
}
