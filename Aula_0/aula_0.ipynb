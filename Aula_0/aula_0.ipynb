{
 "cells": [
  {
   "cell_type": "markdown",
   "metadata": {},
   "source": [
    "## AULA 0 - Básicos  \n",
    "\n",
    "### TIPOS DE DADOS\n",
    "1. #### string = texto\n",
    "2. #### int (ou integer) = número inteiro\n",
    "3. #### float = número com vírgula\n",
    "4. #### .....\n",
    "\n",
    ">Dentro de **QUALQUER** função, os argumentos são separados pela **`,`** (vírgula)  \n",
    "\n",
    "Vamos começar explorando a famosa função `print()`  \n",
    "\n",
    "Primeiramente, iremos criar uma váriavel para armazenar o nome do usuário e, em seguida, dar olá para ele."
   ]
  },
  {
   "cell_type": "code",
   "execution_count": null,
   "metadata": {},
   "outputs": [],
   "source": [
    "nome = input(\"Qual seu nome? \")\n",
    "print(\"Olá, \" + nome)"
   ]
  },
  {
   "cell_type": "markdown",
   "metadata": {},
   "source": [
    "A função `print()`, como vcs já sabem, escreve algo no terminal, enquano a função `input()` requer que o usuário escreva algo, para só assim seguir com o código\n",
    "\n",
    ">Ambas armazenam *strings*\n",
    "\n",
    ">>Obs: Quando foi solicitado para, por exemplo, ver quantas letras tem um nome, recomendo que coloquem uma váriavel fixa, como ` nome = 'jao'` para facilitar a criação do código, depois que acharem que está pronto, vcs podem colocar `nome = input(...)`, pra não ter que ficar toda hora digitando jão, por exemplo  \n",
    "\n",
    "Não esqueça que `' '` e `\" \"` tem que ser consistente, podemos usar qualquer um dos dois, mas se começa com um, termina com um, se começa com dois, termina com dois. Isso serve para conseguir fazer, por exemplo:"
   ]
  },
  {
   "cell_type": "code",
   "execution_count": null,
   "metadata": {},
   "outputs": [],
   "source": [
    "print('Olá, \"amigo\"')"
   ]
  },
  {
   "cell_type": "markdown",
   "metadata": {},
   "source": [
    "Abaixo, o código não funcionaria, pois estamos usando o mesmo simbolo para tentar dar uma expressão"
   ]
  },
  {
   "cell_type": "code",
   "execution_count": null,
   "metadata": {},
   "outputs": [],
   "source": [
    "print(\"Hello, \"friend\"\")"
   ]
  },
  {
   "cell_type": "markdown",
   "metadata": {},
   "source": [
    "Para fazermos assim, devemos colocar `\\`, para avisar para o programa que queremos um caractere especial escrito, e para colocar uma **\\**, simplesmente escrevemos `\\\\`"
   ]
  },
  {
   "cell_type": "code",
   "execution_count": null,
   "metadata": {},
   "outputs": [],
   "source": [
    "print(\"Olá, \\\"amigo\\\"\")\n",
    "print(\"Prefiro laranja\\\\abacate\")"
   ]
  },
  {
   "cell_type": "markdown",
   "metadata": {},
   "source": [
    "--------------------------------\n",
    "\n",
    "## Sub-Funções de Dados\n",
    "\n",
    "Basicamente, todos os *tipos de dados* contruidas no python tem algumas sub-funções, que servem para modificar o comportamento delas  \n",
    "\n",
    "Abaixo, vamos ver alguns modificadores de *string* e como utilizá-los"
   ]
  },
  {
   "cell_type": "markdown",
   "metadata": {},
   "source": [
    "`.strip` = remove os espaços das strings da esquerda e da direita, colocando 'r' ou 'l' .strip, ele só tira da direita/esquerda"
   ]
  },
  {
   "cell_type": "code",
   "execution_count": null,
   "metadata": {},
   "outputs": [],
   "source": [
    "nome = '     joão       '\n",
    "nome = nome.strip()"
   ]
  },
  {
   "cell_type": "markdown",
   "metadata": {},
   "source": [
    "`.capitalize` = Apenas a primeira letra fica maiúscula"
   ]
  },
  {
   "cell_type": "code",
   "execution_count": null,
   "metadata": {},
   "outputs": [],
   "source": [
    "nome = 'ulisses souza barbosa'\n",
    "nome = nome.capitalize()"
   ]
  },
  {
   "cell_type": "markdown",
   "metadata": {},
   "source": [
    "`.title` = Todas as primeiras letras de cada palavra ficam maiúsculas"
   ]
  },
  {
   "cell_type": "code",
   "execution_count": null,
   "metadata": {},
   "outputs": [],
   "source": [
    "nome = 'ulisses souza barbosa'\n",
    "nome = nome.title()"
   ]
  },
  {
   "cell_type": "markdown",
   "metadata": {},
   "source": [
    "#### Como podemos montar:"
   ]
  },
  {
   "cell_type": "code",
   "execution_count": null,
   "metadata": {},
   "outputs": [],
   "source": [
    "nome = input(\"Qual seu nome? \")\n",
    "nome = nome.strip().title()"
   ]
  },
  {
   "cell_type": "code",
   "execution_count": null,
   "metadata": {},
   "outputs": [],
   "source": [
    "nome = input(\"Qual seu nome? \").strip().title()"
   ]
  },
  {
   "cell_type": "markdown",
   "metadata": {},
   "source": [
    "\n",
    "`.split` = separa os argumentos, podendo criar novos parametros\n",
    "\n",
    ">na hora do `print()`, colocamos um **f** antes das \"\" para indicar que colocaremos uma váriavel no meio, e indicamos essa váriavel por `{`*`variavel_aqui`*`}`, facilitando, assim, escrever o texto inteiro e inserir a váriavel no meio do print :)"
   ]
  },
  {
   "cell_type": "code",
   "execution_count": null,
   "metadata": {},
   "outputs": [],
   "source": [
    "nome = input(\"Qual seu nome? \").strip().title()\n",
    "primeiro, ultimo = nome.split(\" \")\n",
    "print(f\"Hello, {primeiro}!\")"
   ]
  },
  {
   "cell_type": "markdown",
   "metadata": {},
   "source": [
    "no código acima, o usuário coloca um nome composto, como *luiz pedó*, e o programa separa a string pelo espaço, poderiamos também separar por outro parametro, como o numero *6*, porem, ao invés do espaço, o usuário, nesse exemplo de colocar o nome, teria que escrever *luiz6pedó* (sei que foi um exemplo meio merda, mas só queria explicar que da pra separar a função por qualquer parametro)  \n",
    "\n",
    "Poderiamos, também, separar por virgula, e para não ter o expaço após a virgula armazenado no nome, escreveriamos assim:"
   ]
  },
  {
   "cell_type": "code",
   "execution_count": null,
   "metadata": {},
   "outputs": [],
   "source": [
    "nome = input(\"Qual seu nome? \").strip().title()\n",
    "primeiro, ultimo = nome.split(',').strip()\n",
    "print(f'Olá, {primeiro} {ultimo}!')"
   ]
  },
  {
   "cell_type": "markdown",
   "metadata": {},
   "source": [
    "### Criando Novas Funções\n",
    "\n",
    "`def` => cria uma nová função"
   ]
  },
  {
   "cell_type": "code",
   "execution_count": null,
   "metadata": {},
   "outputs": [],
   "source": [
    "def hello(to):\n",
    "#         ^-> faz a função aceitar parametros, nesse caso, apenas um parametro\n",
    "    print(\"Hello,\", to)\n",
    "                     \n",
    "\n",
    "name = input(\"What's your name? \")\n",
    "hello(name)\n",
    "#       ^-> faz com que ele saiba qual a variavel utilizada no parametro"
   ]
  },
  {
   "cell_type": "code",
   "execution_count": null,
   "metadata": {},
   "outputs": [],
   "source": [
    "def hello(to = \"world\"):\n",
    "#                 ^-> faz com que, se a função(hello, neste caso)\n",
    "#for chama e não tiver #input, ou se não for dado pelo programador, \n",
    "#ela tenha um valor pré-definido, podendo, \n",
    "#depois, ser alterada com outra linha de código contendo a váriavel\n",
    "    print(\"Hello,\", to)\n",
    "\n",
    "hello()\n",
    "name = input(\"What's your name? \")\n",
    "hello(name)"
   ]
  },
  {
   "cell_type": "markdown",
   "metadata": {},
   "source": [
    "### Código final de Ola.py:"
   ]
  },
  {
   "cell_type": "code",
   "execution_count": null,
   "metadata": {},
   "outputs": [],
   "source": [
    "def main():\n",
    "    ola()\n",
    "    nome = input(\"Qual seu nome? \").strip().title()\n",
    "    ola(nome)\n",
    "    \n",
    "def ola(para = \"Mundo\"):\n",
    "    print(\"Olá,\", para)\n",
    "\n",
    "    \n",
    "main()"
   ]
  },
  {
   "cell_type": "markdown",
   "metadata": {},
   "source": [
    "-----------------------\n",
    "\n",
    "# Calculando  \n",
    "\n",
    "Agora, vamos ver um pouco sobre os int"
   ]
  },
  {
   "cell_type": "code",
   "execution_count": null,
   "metadata": {},
   "outputs": [],
   "source": [
    "x = input(\"X: \")\n",
    "y = input(\"Y: \")\n",
    "z = x + y\n",
    "print(z)"
   ]
  },
  {
   "cell_type": "markdown",
   "metadata": {},
   "source": [
    "O código acima não funcionaria, pois, por mais que coloquemos um numero no input, ele ainda está em modo string, então `z`, assim, nunca vai nos dar o resultado desejado, então, temos que transformar as váriaveis em *`int`*   \n",
    "\n",
    "`int` vai converter em número em que possa fazer os cálculos"
   ]
  },
  {
   "cell_type": "code",
   "execution_count": null,
   "metadata": {},
   "outputs": [],
   "source": [
    "z = int(x) + int (y)"
   ]
  },
  {
   "cell_type": "code",
   "execution_count": null,
   "metadata": {},
   "outputs": [],
   "source": [
    "x = int(input(\"Qual o x: \"))\n",
    "y = int(input(\"Qual o y: \"))\n",
    "\n",
    "print(x + y)"
   ]
  },
  {
   "cell_type": "code",
   "execution_count": null,
   "metadata": {},
   "outputs": [],
   "source": [
    "x = input(\"Qual o x: \")\n",
    "y = input(\"Qual o y: \")\n",
    "\n",
    "print(int(x) + int(y))"
   ]
  },
  {
   "cell_type": "markdown",
   "metadata": {},
   "source": [
    "Qualquer uma das 3 acimas dá certo  \n",
    "\n",
    "#### Parametros de **`int`**  \n",
    "\n",
    "`float` = aceita números decimais  \n",
    "`round` = arredonda números decimais\n",
    ">round(numero_para_arredondar , QUANTAS_CASAS)\n",
    ">>Se utilizar ', n°', ele diz qual digito após a casa decimal arredondar  \n",
    ">>z = round(x / y, 2)"
   ]
  },
  {
   "cell_type": "code",
   "execution_count": null,
   "metadata": {},
   "outputs": [],
   "source": [
    "x = int(input(\"Qual o x: \"))\n",
    "y = int(input(\"Qual o y: \"))\n",
    "\n",
    "print(round(x + y))"
   ]
  },
  {
   "cell_type": "markdown",
   "metadata": {},
   "source": [
    "Para separar os milhares:"
   ]
  },
  {
   "cell_type": "code",
   "execution_count": null,
   "metadata": {},
   "outputs": [],
   "source": [
    "x = float(input(\"Qual o x: \"))\n",
    "y = float(input(\"Qual o y: \"))\n",
    "z = round (x + y)\n",
    "print(f\"{z:,}\")\n",
    "#         ^^- O dois pontos e a vírgula\n",
    "# que se utiliza para\n",
    "#indicar a separação dos milhares"
   ]
  },
  {
   "cell_type": "markdown",
   "metadata": {},
   "source": [
    "Para limitar a quantidade de números após a casa decimal:"
   ]
  },
  {
   "cell_type": "code",
   "execution_count": null,
   "metadata": {},
   "outputs": [],
   "source": [
    "x = float(input(\"Qual o x: \"))\n",
    "y = float(input(\"Qual o y: \"))\n",
    "z = x / y\n",
    "print(f\"{z:.2f}\")"
   ]
  },
  {
   "cell_type": "markdown",
   "metadata": {},
   "source": [
    "### O que é 'SCOPE'\n",
    ">É quando uma variável só existe em uma definição\n",
    "\n",
    "`return` = retorna o valor para à variável"
   ]
  },
  {
   "cell_type": "code",
   "execution_count": null,
   "metadata": {},
   "outputs": [],
   "source": [
    "def main():\n",
    "    x = int(input(\"Qual o x: \"))\n",
    "    print(\"O quadrado de x é: \", square(x))\n",
    "       \n",
    "def square(n):\n",
    "    return n * n\n",
    "     \n",
    "main()"
   ]
  },
  {
   "cell_type": "markdown",
   "metadata": {},
   "source": [
    "Acima, nós pedimos para o usuário um número e, após adquirir esse numero, vamos fazer o print desse numero, mas antes, a função `square()` é chamada, a variavél **`n`** é o que chamamos de scope, pois só existe dentro do square, mais pra frente veremos como fazer, quando utilizar e por que utilizar váriavéis globais, mas não se preocupe com isso agora"
   ]
  },
  {
   "cell_type": "markdown",
   "metadata": {},
   "source": [
    "### Final calc.py:"
   ]
  },
  {
   "cell_type": "code",
   "execution_count": null,
   "metadata": {},
   "outputs": [],
   "source": [
    "def main():\n",
    "    x = int(input(\"Qual o x: \"))\n",
    "    print(\"O quadrado de x é: \", square(x))\n",
    "      \n",
    "def square(n):\n",
    "    return n * n\n",
    "       \n",
    "main()"
   ]
  }
 ],
 "metadata": {
  "kernelspec": {
   "display_name": "Python 3.11.1 64-bit",
   "language": "python",
   "name": "python3"
  },
  "language_info": {
   "name": "python",
   "version": "3.11.1"
  },
  "orig_nbformat": 4,
  "vscode": {
   "interpreter": {
    "hash": "5238573367df39f7286bb46f9ff5f08f63a01a80960060ce41e3c79b190280fa"
   }
  }
 },
 "nbformat": 4,
 "nbformat_minor": 2
}
